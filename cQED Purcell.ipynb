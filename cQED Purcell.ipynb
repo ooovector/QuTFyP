{
 "cells": [
  {
   "cell_type": "code",
   "execution_count": 1,
   "metadata": {},
   "outputs": [],
   "source": [
    "import numpy as np\n",
    "import QuTFyP\n",
    "import tensorflow as tf\n",
    "import math\n",
    "import matplotlib.pyplot as plt\n",
    "from math import pi"
   ]
  },
  {
   "cell_type": "markdown",
   "metadata": {},
   "source": [
    "# Setting up the simulation: \n",
    "2-level system (qubit) @ 6.0 (GHz)\n",
    "\n",
    "8-level system with no anharmonicity @ 9.5 (GHz) - the resonator\n",
    "\n",
    "coupling via $\\hat{x}_1\\hat{x}_2$, coupling strength 0.1 (GHz)\n",
    "\n",
    "resonator decays with rate 0.1 ($\\mathrm{ns}^{-1}$)"
   ]
  },
  {
   "cell_type": "code",
   "execution_count": 40,
   "metadata": {
    "collapsed": true
   },
   "outputs": [],
   "source": [
    "qed = QuTFyP.TransmonQED()\n",
    "rwa = False\n",
    "qed.d = [2, 8] # one degree of freedom with two levels: a qubit\n",
    "qed.rdtype_np = np.float32\n",
    "qed.cdtype_np = np.complex64\n",
    "qed.rdtype = tf.float32\n",
    "qed.cdtype = tf.complex64\n",
    "qed.ntraj = 1000\n",
    "qed.anharmonicities = [0.0, 0.0] #  anharmonicity is irrelevant for two-level systems\n",
    "qed.frequencies = [2*pi*6.0, 2*pi*9.5] # in GHz. Transmon is 6.0, resonator is 9.5.\n",
    "qed.couplings = [[0.0, 2*pi*0.1], [2*pi*0.1, 0.0]] # coupling constants between different degrees of freedom\n",
    "qed.initialize_operators()\n",
    "qed.controls = {}\n",
    "qed.minibatch = 100 # number of time steps with a single noise sample and without resampling\n",
    "qed.simulation_time = 1000.0\n",
    "qed.dt = 0.01\n",
    "qed.decoherences = {'resonator_decay':{'measurement_type':'homodyne',\n",
    "                          'coupling_type':'a',\n",
    "                          'rate':0.1,\n",
    "                          'subsystem_id':1,\n",
    "                          'record':True,\n",
    "                          'unmix':True,\n",
    "                          'unmix_reference':2*pi*9.5 if rwa else 0.,\n",
    "                          'sample_rate':20.,\n",
    "                          'noise_spectral_density': np.ones((1,), dtype=qed.rdtype_np)}}\n",
    "\n"
   ]
  },
  {
   "cell_type": "code",
   "execution_count": 41,
   "metadata": {},
   "outputs": [],
   "source": [
    "qed.expectations = { 'qubit_x': {'unmix':True,\n",
    "                          'unmix_reference':2*pi*6. if rwa else 0., \n",
    "                          'sample_rate':20.,\n",
    "            'observable_vec': lambda x,t: tf.real(qed.am_td_expect(x,t,ax=0)),\n",
    "            'observable_mat': lambda x,t: qed.observable(tf.real(qed.am_d2(x, ax=0)), mode='mat') },\n",
    "                          'qubit_y': {'unmix':True,\n",
    "                          'unmix_reference':2*pi*6. if rwa else 0., \n",
    "                          'sample_rate':20.,\n",
    "            'observable_vec': lambda x,t: tf.imag(qed.am_td_expect(x,t,ax=0)),\n",
    "            'observable_mat': lambda x,t: qed.observable(tf.imag(qed.am_d2(x, ax=0)), mode='mat') },\n",
    "                          'qubit_z': {'unmix':True,\n",
    "                          'unmix_reference':2*pi*0., \n",
    "                          'sample_rate':20.,\n",
    "            'observable_vec': lambda x,t: qed.observable(tf.real(tf.conj(x)*x*qed.multipliers_sqr_real[0])),\n",
    "            'observable_mat': lambda x,t: qed.observable(tf.real(qed.multipliers_sqr_real[0]*x), mode='mat') },\n",
    "                   'res_x': {'unmix':True,\n",
    "                          'unmix_reference':2*pi*6. if rwa else 0., \n",
    "                          'sample_rate':20.,\n",
    "            'observable_vec': lambda x,t: tf.real(qed.am_td_expect(x,t,ax=1)),\n",
    "            'observable_mat': lambda x,t: qed.observable(tf.real(qed.am_d2(x, ax=1)), mode='mat') },\n",
    "                          'res_y': {'unmix':True,\n",
    "                          'unmix_reference':2*pi*6. if rwa else 0., \n",
    "                          'sample_rate':20.,\n",
    "            'observable_vec': lambda x,t: tf.imag(qed.am_td_expect(x,t,ax=1)),\n",
    "            'observable_mat': lambda x,t: qed.observable(tf.imag(qed.am_d2(x, ax=1)), mode='mat') },\n",
    "                          'res_n': {'unmix':True,\n",
    "                          'unmix_reference':2*pi*0., \n",
    "                          'sample_rate':20.,\n",
    "            'observable_vec': lambda x,t: qed.observable(tf.real(tf.conj(x)*x*qed.multipliers_sqr_real[1])),\n",
    "            'observable_mat': lambda x,t: qed.observable(tf.real(qed.multipliers_sqr_real[1]*x), mode='mat') }}"
   ]
  },
  {
   "cell_type": "code",
   "execution_count": 46,
   "metadata": {},
   "outputs": [
    {
     "name": "stderr",
     "output_type": "stream",
     "text": [
      "100%|██████████████████████████████████████████████████████████████████████████| 100000/100000 [18:22<00:00, 84.21it/s]\n"
     ]
    },
    {
     "name": "stdout",
     "output_type": "stream",
     "text": [
      "homodyne\n",
      "homodyne\n",
      "homodyne\n",
      "homodyne\n"
     ]
    },
    {
     "name": "stderr",
     "output_type": "stream",
     "text": [
      "100%|█████████████████████████████████████████████████████████████████████████| 100000/100000 [14:52<00:00, 112.06it/s]\n"
     ]
    }
   ],
   "source": [
    "qed.ntraj = 1\n",
    "qed.initialize_operators()\n",
    "gi = [[1,0,i] for i in range(qed.ntraj)]  # A list of coordinates to update.\n",
    "gv = [1.0]*qed.ntraj  # A list of values corresponding to the respective\n",
    "        # coordinate in indices.\n",
    "qed.set_initial_pure_state(gi, gv)\n",
    "expectations_mat = qed.run('mat_pure') # master equation solution\n",
    "\n",
    "\n",
    "qed.ntraj = 1000\n",
    "qed.initialize_operators()\n",
    "gi = [[1,0,i] for i in range(qed.ntraj)]  # A list of coordinates to update.\n",
    "gv = [1.0]*qed.ntraj  # A list of values corresponding to the respective\n",
    "        # coordinate in indices.\n",
    "qed.set_initial_pure_state(gi, gv)\n",
    "expectations_vec_homodyne, measurements_vec_homodyne = qed.run('vec') # run homodyne solution"
   ]
  },
  {
   "cell_type": "markdown",
   "metadata": {},
   "source": [
    "# Plotting Purcell decay\n",
    "Theory:\n",
    "    \n",
    "$\\gamma_\\mathrm{Pur} = \\kappa g^2/\\Delta^2=0.1\\times\\left(0.1/3.5\\right)^2=1.8 \\times 10^{-5}$\n",
    "\n",
    "$\\langle n_q \\rangle = e^{-\\gamma_\\mathrm{Pur} t}$"
   ]
  },
  {
   "cell_type": "code",
   "execution_count": 49,
   "metadata": {},
   "outputs": [
    {
     "name": "stderr",
     "output_type": "stream",
     "text": [
      "C:\\ProgramData\\Anaconda3\\lib\\site-packages\\numpy\\core\\numeric.py:531: ComplexWarning: Casting complex values to real discards the imaginary part\n",
      "  return array(a, dtype, copy=False, order=order)\n"
     ]
    },
    {
     "data": {
      "image/png": "[encoded data removed]",
      "text/plain": [
       "<matplotlib.figure.Figure at 0x1cd165fe6a0>"
      ]
     },
     "metadata": {},
     "output_type": "display_data"
    }
   ],
   "source": [
    "#plt.plot(expectations_mat['qubit_x'][:, 0])\n",
    "#plt.plot(expectations_mat['qubit_y'][:, 0])\n",
    "tax = np.arange(0, qed.simulation_time, 1/qed.expectations['qubit_z']['sample_rate'])\n",
    "gamma_pur = qed.couplings[0][1]**2*qed.decoherences['resonator_decay']['rate']/(qed.frequencies[1]-qed.frequencies[0])**2\n",
    "gamma = qed.decoherences['resonator_decay']['rate']\n",
    "plt.plot(tax, expectations_mat['qubit_z'][:, 0], label='$\\\\langle n \\\\rangle$ ME')\n",
    "plt.plot(tax, np.mean(expectations_vec_homodyne['qubit_z'], axis=1), label='$\\\\langle n \\\\rangle$ homodyne')\n",
    "plt.plot(tax, np.exp(-tax*gamma_pur), label='$\\\\langle n \\\\rangle$ Purcell')\n",
    "#plt.plot(tax, np.exp(-tax*gamma), label='$\\\\langle n \\\\rangle$ direct')\n",
    "plt.legend()\n",
    "plt.xlabel('Time steps')\n",
    "plt.ylabel('<n>')\n",
    "plt.savefig('Purcell.png')\n",
    "plt.show()"
   ]
  },
  {
   "cell_type": "code",
   "execution_count": 48,
   "metadata": {},
   "outputs": [
    {
     "name": "stderr",
     "output_type": "stream",
     "text": [
      "C:\\ProgramData\\Anaconda3\\lib\\site-packages\\numpy\\core\\numeric.py:531: ComplexWarning: Casting complex values to real discards the imaginary part\n",
      "  return array(a, dtype, copy=False, order=order)\n"
     ]
    },
    {
     "data": {
      "image/png": "[encoded data removed]",
      "text/plain": [
       "<matplotlib.figure.Figure at 0x1cd16574e48>"
      ]
     },
     "metadata": {},
     "output_type": "display_data"
    }
   ],
   "source": [
    "plt.plot(expectations_vec_homodyne['qubit_x'][:, 0])\n",
    "plt.plot(expectations_vec_homodyne['qubit_y'][:, 0])\n",
    "plt.plot(expectations_vec_homodyne['qubit_z'][:, 0])\n",
    "plt.show()"
   ]
  },
  {
   "cell_type": "code",
   "execution_count": null,
   "metadata": {
    "collapsed": true
   },
   "outputs": [],
   "source": []
  }
 ],
 "metadata": {
  "kernelspec": {
   "display_name": "Python [default]",
   "language": "python",
   "name": "python3"
  },
  "language_info": {
   "codemirror_mode": {
    "name": "ipython",
    "version": 3
   },
   "file_extension": ".py",
   "mimetype": "text/x-python",
   "name": "python",
   "nbconvert_exporter": "python",
   "pygments_lexer": "ipython3",
   "version": "3.6.1"
  }
 },
 "nbformat": 4,
 "nbformat_minor": 2
}
